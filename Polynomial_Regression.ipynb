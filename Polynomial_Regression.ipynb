{
  "nbformat": 4,
  "nbformat_minor": 0,
  "metadata": {
    "colab": {
      "provenance": []
    },
    "kernelspec": {
      "name": "python3",
      "display_name": "Python 3"
    },
    "language_info": {
      "name": "python"
    }
  },
  "cells": [
    {
      "cell_type": "code",
      "execution_count": 1,
      "metadata": {
        "id": "Z_uvdQ5TU2Wu"
      },
      "outputs": [],
      "source": [
        "import pandas as pd\n",
        "import numpy as np\n",
        "import matplotlib.pyplot as plt\n",
        "import seaborn as sns\n",
        "\n"
      ]
    },
    {
      "cell_type": "code",
      "source": [
        "np.random.seed(1)"
      ],
      "metadata": {
        "id": "PNYULuWyU_2u"
      },
      "execution_count": 2,
      "outputs": []
    },
    {
      "cell_type": "code",
      "source": [
        "X = 2*np.random.rand(100,1)"
      ],
      "metadata": {
        "id": "UTx4J7GpVCAf"
      },
      "execution_count": 3,
      "outputs": []
    },
    {
      "cell_type": "code",
      "source": [
        "X"
      ],
      "metadata": {
        "colab": {
          "base_uri": "https://localhost:8080/"
        },
        "id": "xU6u1PfNVHeC",
        "outputId": "4322b938-29d8-4400-e096-6d27fda34027"
      },
      "execution_count": 4,
      "outputs": [
        {
          "output_type": "execute_result",
          "data": {
            "text/plain": [
              "array([[8.34044009e-01],\n",
              "       [1.44064899e+00],\n",
              "       [2.28749635e-04],\n",
              "       [6.04665145e-01],\n",
              "       [2.93511782e-01],\n",
              "       [1.84677190e-01],\n",
              "       [3.72520423e-01],\n",
              "       [6.91121454e-01],\n",
              "       [7.93534948e-01],\n",
              "       [1.07763347e+00],\n",
              "       [8.38389029e-01],\n",
              "       [1.37043900e+00],\n",
              "       [4.08904499e-01],\n",
              "       [1.75623487e+00],\n",
              "       [5.47751864e-02],\n",
              "       [1.34093502e+00],\n",
              "       [8.34609605e-01],\n",
              "       [1.11737966e+00],\n",
              "       [2.80773877e-01],\n",
              "       [3.96202978e-01],\n",
              "       [1.60148914e+00],\n",
              "       [1.93652315e+00],\n",
              "       [6.26848356e-01],\n",
              "       [1.38464523e+00],\n",
              "       [1.75277830e+00],\n",
              "       [1.78921333e+00],\n",
              "       [1.70088423e-01],\n",
              "       [7.81095665e-02],\n",
              "       [3.39660839e-01],\n",
              "       [1.75628501e+00],\n",
              "       [1.96693668e-01],\n",
              "       [8.42215250e-01],\n",
              "       [1.91577906e+00],\n",
              "       [1.06633057e+00],\n",
              "       [1.38375423e+00],\n",
              "       [6.31031262e-01],\n",
              "       [1.37300186e+00],\n",
              "       [1.66925134e+00],\n",
              "       [3.65765547e-02],\n",
              "       [1.50028863e+00],\n",
              "       [1.97772218e+00],\n",
              "       [1.49633131e+00],\n",
              "       [5.60887984e-01],\n",
              "       [1.57855866e+00],\n",
              "       [2.06452013e-01],\n",
              "       [8.95787052e-01],\n",
              "       [1.81719101e+00],\n",
              "       [5.87228297e-01],\n",
              "       [5.75550677e-01],\n",
              "       [2.60057144e-01],\n",
              "       [3.87339157e-02],\n",
              "       [1.35767107e+00],\n",
              "       [4.23256232e-01],\n",
              "       [5.31093319e-01],\n",
              "       [9.83146319e-01],\n",
              "       [1.06725090e-01],\n",
              "       [1.14823521e+00],\n",
              "       [2.93457150e-01],\n",
              "       [1.17861107e+00],\n",
              "       [1.39951672e+00],\n",
              "       [2.04668858e-01],\n",
              "       [8.28111976e-01],\n",
              "       [1.38880032e+00],\n",
              "       [8.28358539e-01],\n",
              "       [9.99069179e-02],\n",
              "       [1.07179281e+00],\n",
              "       [1.32758929e+00],\n",
              "       [1.02977822e+00],\n",
              "       [1.88918951e+00],\n",
              "       [1.17311008e+00],\n",
              "       [1.80680383e+00],\n",
              "       [2.74949408e-01],\n",
              "       [2.78552695e-01],\n",
              "       [1.61478258e+00],\n",
              "       [7.95353674e-01],\n",
              "       [3.30708394e-01],\n",
              "       [1.85501716e+00],\n",
              "       [6.95531719e-01],\n",
              "       [1.50162421e+00],\n",
              "       [1.45199597e+00],\n",
              "       [1.76661218e+00],\n",
              "       [1.24734441e+00],\n",
              "       [1.50188487e+00],\n",
              "       [6.97796684e-01],\n",
              "       [5.39855784e-01],\n",
              "       [1.79177244e+00],\n",
              "       [8.56182380e-01],\n",
              "       [1.92968009e+00],\n",
              "       [1.32688300e+00],\n",
              "       [1.24339144e+00],\n",
              "       [2.29491946e-01],\n",
              "       [1.89897852e+00],\n",
              "       [8.99824267e-01],\n",
              "       [1.15677923e+00],\n",
              "       [8.16273606e-01],\n",
              "       [4.74053960e-01],\n",
              "       [1.80675904e+00],\n",
              "       [1.14735897e+00],\n",
              "       [5.74065406e-03],\n",
              "       [1.23428983e+00]])"
            ]
          },
          "metadata": {},
          "execution_count": 4
        }
      ]
    },
    {
      "cell_type": "code",
      "source": [
        "y = 4 + 3*X +1.52*X**2+np.random.rand(100,1)"
      ],
      "metadata": {
        "id": "JaOUXc-cVIC3"
      },
      "execution_count": 5,
      "outputs": []
    },
    {
      "cell_type": "code",
      "source": [
        "y"
      ],
      "metadata": {
        "colab": {
          "base_uri": "https://localhost:8080/"
        },
        "id": "ts8WI5xHVWlQ",
        "outputId": "94f7f991-4a54-4339-f566-10b231fce633"
      },
      "execution_count": 6,
      "outputs": [
        {
          "output_type": "execute_result",
          "data": {
            "text/plain": [
              "array([[ 7.88613363],\n",
              "       [12.00371871],\n",
              "       [ 4.88662843],\n",
              "       [ 6.7270075 ],\n",
              "       [ 5.92001723],\n",
              "       [ 5.22923229],\n",
              "       [ 5.34431514],\n",
              "       [ 7.72882787],\n",
              "       [ 8.02864229],\n",
              "       [ 9.99538997],\n",
              "       [ 7.75590976],\n",
              "       [11.1031694 ],\n",
              "       [ 6.41345735],\n",
              "       [14.65375139],\n",
              "       [ 4.23488622],\n",
              "       [11.51139034],\n",
              "       [ 8.31649625],\n",
              "       [10.1729402 ],\n",
              "       [ 5.67367402],\n",
              "       [ 5.55148463],\n",
              "       [12.72279408],\n",
              "       [15.53596575],\n",
              "       [ 6.50611863],\n",
              "       [11.31435523],\n",
              "       [14.78815518],\n",
              "       [14.77242323],\n",
              "       [ 5.10706096],\n",
              "       [ 5.08563327],\n",
              "       [ 5.31851745],\n",
              "       [14.23653498],\n",
              "       [ 5.23464664],\n",
              "       [ 8.57441782],\n",
              "       [15.8870857 ],\n",
              "       [ 8.94597154],\n",
              "       [11.86235452],\n",
              "       [ 6.73133275],\n",
              "       [11.79151459],\n",
              "       [13.63094275],\n",
              "       [ 4.97530504],\n",
              "       [12.66930381],\n",
              "       [16.43471199],\n",
              "       [12.02874038],\n",
              "       [ 6.22076654],\n",
              "       [12.64462753],\n",
              "       [ 4.72869402],\n",
              "       [ 8.01455564],\n",
              "       [14.69660075],\n",
              "       [ 6.99882622],\n",
              "       [ 6.78988206],\n",
              "       [ 4.89552458],\n",
              "       [ 4.19045651],\n",
              "       [11.84206103],\n",
              "       [ 6.11017083],\n",
              "       [ 6.22530456],\n",
              "       [ 8.67096126],\n",
              "       [ 5.0813143 ],\n",
              "       [ 9.64417015],\n",
              "       [ 5.59262837],\n",
              "       [10.61732179],\n",
              "       [12.02252248],\n",
              "       [ 4.91752613],\n",
              "       [ 8.0204752 ],\n",
              "       [11.71808147],\n",
              "       [ 8.35704688],\n",
              "       [ 4.47168386],\n",
              "       [ 8.98003918],\n",
              "       [10.73177987],\n",
              "       [ 9.18755343],\n",
              "       [15.69883426],\n",
              "       [10.17998632],\n",
              "       [14.69987483],\n",
              "       [ 5.92837209],\n",
              "       [ 5.53334254],\n",
              "       [13.18792352],\n",
              "       [ 7.89854219],\n",
              "       [ 5.90369904],\n",
              "       [15.46473915],\n",
              "       [ 7.08683656],\n",
              "       [11.99861784],\n",
              "       [11.9306764 ],\n",
              "       [14.67335033],\n",
              "       [10.31712675],\n",
              "       [12.68701056],\n",
              "       [ 6.90004526],\n",
              "       [ 6.32287774],\n",
              "       [15.05995354],\n",
              "       [ 7.87621479],\n",
              "       [16.08847237],\n",
              "       [11.18145939],\n",
              "       [11.00493615],\n",
              "       [ 5.03182577],\n",
              "       [15.24419815],\n",
              "       [ 8.66525801],\n",
              "       [10.27648576],\n",
              "       [ 8.36941662],\n",
              "       [ 6.69571923],\n",
              "       [14.39608361],\n",
              "       [ 9.67741658],\n",
              "       [ 4.63405041],\n",
              "       [10.9675623 ]])"
            ]
          },
          "metadata": {},
          "execution_count": 6
        }
      ]
    },
    {
      "cell_type": "code",
      "source": [
        "from sklearn.model_selection import train_test_split\n",
        "X_train, X_test, y_train, y_test = train_test_split(X, y, test_size = 0.2, random_state=1)"
      ],
      "metadata": {
        "id": "8eBvrOZeVXH3"
      },
      "execution_count": 8,
      "outputs": []
    },
    {
      "cell_type": "code",
      "source": [
        "from sklearn.preprocessing import PolynomialFeatures\n",
        "\n"
      ],
      "metadata": {
        "id": "XwBIZjPAVmg4"
      },
      "execution_count": 10,
      "outputs": []
    },
    {
      "cell_type": "code",
      "source": [
        " poly_feat= PolynomialFeatures(degree = 2, include_bias = False)"
      ],
      "metadata": {
        "id": "AX28uVQbV4ZT"
      },
      "execution_count": 11,
      "outputs": []
    },
    {
      "cell_type": "code",
      "source": [
        "X_train_ploy = poly_feat.fit_transform(X_train)"
      ],
      "metadata": {
        "id": "DPGOnnNKWH-O"
      },
      "execution_count": 14,
      "outputs": []
    },
    {
      "cell_type": "code",
      "source": [
        "X_train_ploy"
      ],
      "metadata": {
        "colab": {
          "base_uri": "https://localhost:8080/"
        },
        "id": "pCOaGhlxWS1Q",
        "outputId": "172aa0a5-936a-43a6-b6cb-4a1cfd3e2d98"
      },
      "execution_count": 15,
      "outputs": [
        {
          "output_type": "execute_result",
          "data": {
            "text/plain": [
              "array([[2.28749635e-04, 5.23263954e-08],\n",
              "       [1.61478258e+00, 2.60752277e+00],\n",
              "       [1.14735897e+00, 1.31643261e+00],\n",
              "       [1.38880032e+00, 1.92876632e+00],\n",
              "       [3.96202978e-01, 1.56976800e-01],\n",
              "       [6.31031262e-01, 3.98200454e-01],\n",
              "       [8.16273606e-01, 6.66302599e-01],\n",
              "       [7.81095665e-02, 6.10110437e-03],\n",
              "       [1.81719101e+00, 3.30218315e+00],\n",
              "       [3.65765547e-02, 1.33784435e-03],\n",
              "       [1.02977822e+00, 1.06044319e+00],\n",
              "       [1.23428983e+00, 1.52347138e+00],\n",
              "       [9.83146319e-01, 9.66576684e-01],\n",
              "       [4.74053960e-01, 2.24727157e-01],\n",
              "       [1.32688300e+00, 1.76061848e+00],\n",
              "       [1.97772218e+00, 3.91138501e+00],\n",
              "       [5.75550677e-01, 3.31258582e-01],\n",
              "       [1.39951672e+00, 1.95864705e+00],\n",
              "       [1.38464523e+00, 1.91724242e+00],\n",
              "       [1.38375423e+00, 1.91477576e+00],\n",
              "       [8.56182380e-01, 7.33048267e-01],\n",
              "       [5.31093319e-01, 2.82060113e-01],\n",
              "       [6.95531719e-01, 4.83764373e-01],\n",
              "       [1.34093502e+00, 1.79810673e+00],\n",
              "       [6.97796684e-01, 4.86920212e-01],\n",
              "       [1.49633131e+00, 2.23900739e+00],\n",
              "       [8.95787052e-01, 8.02434443e-01],\n",
              "       [1.89897852e+00, 3.60611941e+00],\n",
              "       [1.70088423e-01, 2.89300716e-02],\n",
              "       [5.74065406e-03, 3.29551091e-05],\n",
              "       [1.57855866e+00, 2.49184743e+00],\n",
              "       [1.06725090e-01, 1.13902449e-02],\n",
              "       [1.75277830e+00, 3.07223179e+00],\n",
              "       [2.93511782e-01, 8.61491660e-02],\n",
              "       [1.17861107e+00, 1.38912406e+00],\n",
              "       [2.60057144e-01, 6.76297183e-02],\n",
              "       [1.93652315e+00, 3.75012192e+00],\n",
              "       [1.92968009e+00, 3.72366527e+00],\n",
              "       [6.04665145e-01, 3.65619938e-01],\n",
              "       [7.95353674e-01, 6.32587467e-01],\n",
              "       [1.96693668e-01, 3.86883989e-02],\n",
              "       [1.32758929e+00, 1.76249332e+00],\n",
              "       [1.80680383e+00, 3.26454008e+00],\n",
              "       [5.60887984e-01, 3.14595331e-01],\n",
              "       [5.87228297e-01, 3.44837073e-01],\n",
              "       [1.24339144e+00, 1.54602227e+00],\n",
              "       [7.93534948e-01, 6.29697714e-01],\n",
              "       [2.04668858e-01, 4.18893413e-02],\n",
              "       [8.34044009e-01, 6.95629410e-01],\n",
              "       [2.29491946e-01, 5.26665532e-02],\n",
              "       [2.93457150e-01, 8.61170988e-02],\n",
              "       [6.26848356e-01, 3.92938862e-01],\n",
              "       [8.28111976e-01, 6.85769444e-01],\n",
              "       [8.28358539e-01, 6.86177869e-01],\n",
              "       [6.91121454e-01, 4.77648864e-01],\n",
              "       [1.80675904e+00, 3.26437823e+00],\n",
              "       [1.75623487e+00, 3.08436093e+00],\n",
              "       [1.88918951e+00, 3.56903701e+00],\n",
              "       [1.79177244e+00, 3.21044846e+00],\n",
              "       [5.47751864e-02, 3.00032104e-03],\n",
              "       [1.75628501e+00, 3.08453703e+00],\n",
              "       [3.39660839e-01, 1.15369486e-01],\n",
              "       [1.37043900e+00, 1.87810305e+00],\n",
              "       [2.80773877e-01, 7.88339701e-02],\n",
              "       [1.60148914e+00, 2.56476746e+00],\n",
              "       [3.87339157e-02, 1.50031623e-03],\n",
              "       [1.78921333e+00, 3.20128433e+00],\n",
              "       [3.72520423e-01, 1.38771465e-01],\n",
              "       [2.74949408e-01, 7.55971771e-02],\n",
              "       [1.85501716e+00, 3.44108867e+00],\n",
              "       [1.44064899e+00, 2.07546950e+00],\n",
              "       [8.34609605e-01, 6.96573192e-01],\n",
              "       [9.99069179e-02, 9.98139224e-03],\n",
              "       [1.45199597e+00, 2.10829230e+00],\n",
              "       [1.84677190e-01, 3.41056643e-02],\n",
              "       [3.30708394e-01, 1.09368042e-01],\n",
              "       [1.07763347e+00, 1.16129389e+00],\n",
              "       [2.78552695e-01, 7.75916036e-02],\n",
              "       [4.08904499e-01, 1.67202890e-01],\n",
              "       [1.66925134e+00, 2.78640005e+00]])"
            ]
          },
          "metadata": {},
          "execution_count": 15
        }
      ]
    },
    {
      "cell_type": "code",
      "source": [
        "from sklearn.linear_model import LinearRegression\n",
        "poly_reg = LinearRegression()"
      ],
      "metadata": {
        "id": "VgnnJLdBWbYs"
      },
      "execution_count": 16,
      "outputs": []
    },
    {
      "cell_type": "code",
      "source": [
        "poly_reg.fit(X_train_ploy, y_train)"
      ],
      "metadata": {
        "colab": {
          "base_uri": "https://localhost:8080/",
          "height": 74
        },
        "id": "ZSv4ekiDWl4f",
        "outputId": "581c35dc-1643-4c9e-d60f-0afde4a46fe1"
      },
      "execution_count": 18,
      "outputs": [
        {
          "output_type": "execute_result",
          "data": {
            "text/plain": [
              "LinearRegression()"
            ],
            "text/html": [
              "<style>#sk-container-id-1 {color: black;background-color: white;}#sk-container-id-1 pre{padding: 0;}#sk-container-id-1 div.sk-toggleable {background-color: white;}#sk-container-id-1 label.sk-toggleable__label {cursor: pointer;display: block;width: 100%;margin-bottom: 0;padding: 0.3em;box-sizing: border-box;text-align: center;}#sk-container-id-1 label.sk-toggleable__label-arrow:before {content: \"▸\";float: left;margin-right: 0.25em;color: #696969;}#sk-container-id-1 label.sk-toggleable__label-arrow:hover:before {color: black;}#sk-container-id-1 div.sk-estimator:hover label.sk-toggleable__label-arrow:before {color: black;}#sk-container-id-1 div.sk-toggleable__content {max-height: 0;max-width: 0;overflow: hidden;text-align: left;background-color: #f0f8ff;}#sk-container-id-1 div.sk-toggleable__content pre {margin: 0.2em;color: black;border-radius: 0.25em;background-color: #f0f8ff;}#sk-container-id-1 input.sk-toggleable__control:checked~div.sk-toggleable__content {max-height: 200px;max-width: 100%;overflow: auto;}#sk-container-id-1 input.sk-toggleable__control:checked~label.sk-toggleable__label-arrow:before {content: \"▾\";}#sk-container-id-1 div.sk-estimator input.sk-toggleable__control:checked~label.sk-toggleable__label {background-color: #d4ebff;}#sk-container-id-1 div.sk-label input.sk-toggleable__control:checked~label.sk-toggleable__label {background-color: #d4ebff;}#sk-container-id-1 input.sk-hidden--visually {border: 0;clip: rect(1px 1px 1px 1px);clip: rect(1px, 1px, 1px, 1px);height: 1px;margin: -1px;overflow: hidden;padding: 0;position: absolute;width: 1px;}#sk-container-id-1 div.sk-estimator {font-family: monospace;background-color: #f0f8ff;border: 1px dotted black;border-radius: 0.25em;box-sizing: border-box;margin-bottom: 0.5em;}#sk-container-id-1 div.sk-estimator:hover {background-color: #d4ebff;}#sk-container-id-1 div.sk-parallel-item::after {content: \"\";width: 100%;border-bottom: 1px solid gray;flex-grow: 1;}#sk-container-id-1 div.sk-label:hover label.sk-toggleable__label {background-color: #d4ebff;}#sk-container-id-1 div.sk-serial::before {content: \"\";position: absolute;border-left: 1px solid gray;box-sizing: border-box;top: 0;bottom: 0;left: 50%;z-index: 0;}#sk-container-id-1 div.sk-serial {display: flex;flex-direction: column;align-items: center;background-color: white;padding-right: 0.2em;padding-left: 0.2em;position: relative;}#sk-container-id-1 div.sk-item {position: relative;z-index: 1;}#sk-container-id-1 div.sk-parallel {display: flex;align-items: stretch;justify-content: center;background-color: white;position: relative;}#sk-container-id-1 div.sk-item::before, #sk-container-id-1 div.sk-parallel-item::before {content: \"\";position: absolute;border-left: 1px solid gray;box-sizing: border-box;top: 0;bottom: 0;left: 50%;z-index: -1;}#sk-container-id-1 div.sk-parallel-item {display: flex;flex-direction: column;z-index: 1;position: relative;background-color: white;}#sk-container-id-1 div.sk-parallel-item:first-child::after {align-self: flex-end;width: 50%;}#sk-container-id-1 div.sk-parallel-item:last-child::after {align-self: flex-start;width: 50%;}#sk-container-id-1 div.sk-parallel-item:only-child::after {width: 0;}#sk-container-id-1 div.sk-dashed-wrapped {border: 1px dashed gray;margin: 0 0.4em 0.5em 0.4em;box-sizing: border-box;padding-bottom: 0.4em;background-color: white;}#sk-container-id-1 div.sk-label label {font-family: monospace;font-weight: bold;display: inline-block;line-height: 1.2em;}#sk-container-id-1 div.sk-label-container {text-align: center;}#sk-container-id-1 div.sk-container {/* jupyter's `normalize.less` sets `[hidden] { display: none; }` but bootstrap.min.css set `[hidden] { display: none !important; }` so we also need the `!important` here to be able to override the default hidden behavior on the sphinx rendered scikit-learn.org. See: https://github.com/scikit-learn/scikit-learn/issues/21755 */display: inline-block !important;position: relative;}#sk-container-id-1 div.sk-text-repr-fallback {display: none;}</style><div id=\"sk-container-id-1\" class=\"sk-top-container\"><div class=\"sk-text-repr-fallback\"><pre>LinearRegression()</pre><b>In a Jupyter environment, please rerun this cell to show the HTML representation or trust the notebook. <br />On GitHub, the HTML representation is unable to render, please try loading this page with nbviewer.org.</b></div><div class=\"sk-container\" hidden><div class=\"sk-item\"><div class=\"sk-estimator sk-toggleable\"><input class=\"sk-toggleable__control sk-hidden--visually\" id=\"sk-estimator-id-1\" type=\"checkbox\" checked><label for=\"sk-estimator-id-1\" class=\"sk-toggleable__label sk-toggleable__label-arrow\">LinearRegression</label><div class=\"sk-toggleable__content\"><pre>LinearRegression()</pre></div></div></div></div></div>"
            ]
          },
          "metadata": {},
          "execution_count": 18
        }
      ]
    },
    {
      "cell_type": "code",
      "source": [
        "poly_reg.coef_"
      ],
      "metadata": {
        "colab": {
          "base_uri": "https://localhost:8080/"
        },
        "id": "K6J3GRcJWtFQ",
        "outputId": "90759b2b-446b-48e6-a798-05cdd3660923"
      },
      "execution_count": 19,
      "outputs": [
        {
          "output_type": "execute_result",
          "data": {
            "text/plain": [
              "array([[3.04129232, 1.47703431]])"
            ]
          },
          "metadata": {},
          "execution_count": 19
        }
      ]
    },
    {
      "cell_type": "code",
      "source": [
        "poly_reg.intercept_"
      ],
      "metadata": {
        "colab": {
          "base_uri": "https://localhost:8080/"
        },
        "id": "RjOriUGVW0OA",
        "outputId": "1c590d10-17b8-491a-998e-7a4025efee4d"
      },
      "execution_count": 20,
      "outputs": [
        {
          "output_type": "execute_result",
          "data": {
            "text/plain": [
              "array([4.49641468])"
            ]
          },
          "metadata": {},
          "execution_count": 20
        }
      ]
    },
    {
      "cell_type": "code",
      "source": [
        "y_pred = poly_reg.predict(X_train_ploy)"
      ],
      "metadata": {
        "id": "V3YapyVlW5Jy"
      },
      "execution_count": 23,
      "outputs": []
    },
    {
      "cell_type": "code",
      "source": [
        "plt.scatter(X_train, y_train, label=\"train data\")"
      ],
      "metadata": {
        "colab": {
          "base_uri": "https://localhost:8080/",
          "height": 448
        },
        "id": "sH5n4_1uXARZ",
        "outputId": "cda15585-30cd-4994-b8e4-4d3f1be1c997"
      },
      "execution_count": 24,
      "outputs": [
        {
          "output_type": "execute_result",
          "data": {
            "text/plain": [
              "<matplotlib.collections.PathCollection at 0x7fddd5ed8be0>"
            ]
          },
          "metadata": {},
          "execution_count": 24
        },
        {
          "output_type": "display_data",
          "data": {
            "text/plain": [
              "<Figure size 640x480 with 1 Axes>"
            ],
            "image/png": "[encoded data removed]"
          },
          "metadata": {}
        }
      ]
    },
    {
      "cell_type": "code",
      "source": [
        "from sklearn.metrics import mean_absolute_error, mean_squared_error, r2_score"
      ],
      "metadata": {
        "id": "lmejPJObXQEZ"
      },
      "execution_count": 25,
      "outputs": []
    },
    {
      "cell_type": "code",
      "source": [
        "mean_absolute_error(y_train, y_pred), mean_squared_error(y_train, y_pred), r2_score(y_train,y_pred)"
      ],
      "metadata": {
        "colab": {
          "base_uri": "https://localhost:8080/"
        },
        "id": "R_04Pb19Xd6f",
        "outputId": "bcec43e0-0c1a-4ae7-80a6-7752ba660909"
      },
      "execution_count": 26,
      "outputs": [
        {
          "output_type": "execute_result",
          "data": {
            "text/plain": [
              "(0.2768216826659188, 0.09661201905011393, 0.9929507713429615)"
            ]
          },
          "metadata": {},
          "execution_count": 26
        }
      ]
    },
    {
      "cell_type": "code",
      "source": [],
      "metadata": {
        "id": "ZyFUp8cTXmt-"
      },
      "execution_count": null,
      "outputs": []
    }
  ]
}